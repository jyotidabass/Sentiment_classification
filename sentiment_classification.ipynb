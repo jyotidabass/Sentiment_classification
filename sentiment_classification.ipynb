{
  "nbformat": 4,
  "nbformat_minor": 0,
  "metadata": {
    "colab": {
      "name": "sentiment_classification.ipynb",
      "provenance": [],
      "authorship_tag": "ABX9TyPoe+ZLv4AojkONRm/GxqPf",
      "include_colab_link": true
    },
    "kernelspec": {
      "name": "python3",
      "display_name": "Python 3"
    },
    "language_info": {
      "name": "python"
    }
  },
  "cells": [
    {
      "cell_type": "markdown",
      "metadata": {
        "id": "view-in-github",
        "colab_type": "text"
      },
      "source": [
        "<a href=\"https://colab.research.google.com/github/jyotidabass/Sentiment_classification/blob/main/sentiment_classification.ipynb\" target=\"_parent\"><img src=\"https://colab.research.google.com/assets/colab-badge.svg\" alt=\"Open In Colab\"/></a>"
      ]
    },
    {
      "cell_type": "code",
      "execution_count": 2,
      "metadata": {
        "id": "PGNWY1Q5-v9b"
      },
      "outputs": [],
      "source": [
        "def find_sentiment(sentence, pos, neg):\n",
        " \"\"\"\n",
        " This function returns sentiment of sentence\n",
        " :param sentence: sentence, a string\n",
        " :param pos: set of positive words\n",
        " :param neg: set of negative words\n",
        " :return: returns positive, negative or neutral sentiment\n",
        " \"\"\"\n",
        "\n",
        " # split sentence by a space\n",
        "  # \"this is a sentence!\" becomes:\n",
        " # [\"this\", \"is\" \"a\", \"sentence!\"]\n",
        " # note that im splitting on all whitespaces\n",
        " # if you want to split by space use .split(\" \")\n",
        " sentence = sentence.split()\n",
        "\n",
        " # make sentence into a set\n",
        " sentence = set(sentence)\n",
        "\n",
        " # check number of common words with positive\n",
        " num_common_pos = len(sentence.intersection(pos))\n",
        "\n",
        " # check number of common words with negative\n",
        " num_common_neg = len(sentence.intersection(neg))\n",
        "\n",
        " # make conditions and return\n",
        " # see how return used eliminates if else\n",
        " if num_common_pos > num_common_neg:\n",
        "   return \"positive\"\n",
        " if num_common_pos < num_common_neg:\n",
        "   return \"negative\"\n",
        "   return \"neutral\""
      ]
    }
  ]
}